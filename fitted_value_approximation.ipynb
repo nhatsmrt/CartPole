{
 "cells": [
  {
   "cell_type": "code",
   "execution_count": null,
   "metadata": {
    "collapsed": false
   },
   "outputs": [
    {
     "name": "stderr",
     "output_type": "stream",
     "text": [
      "/Users/nhat/anaconda/lib/python3.5/importlib/_bootstrap.py:222: RuntimeWarning: compiletime version 3.6 of module 'tensorflow.python.framework.fast_tensor_util' does not match runtime version 3.5\n",
      "  return f(*args, **kwds)\n",
      "/Users/nhat/anaconda/lib/python3.5/site-packages/h5py/__init__.py:34: FutureWarning: Conversion of the second argument of issubdtype from `float` to `np.floating` is deprecated. In future, it will be treated as `np.float64 == np.dtype(float).type`.\n",
      "  from ._conv import register_converters as _register_converters\n"
     ]
    }
   ],
   "source": [
    "import numpy as np\n",
    "import gym\n",
    "import random\n",
    "from Source import FittedValueApproximator"
   ]
  },
  {
   "cell_type": "code",
   "execution_count": null,
   "metadata": {
    "collapsed": false
   },
   "outputs": [
    {
     "name": "stderr",
     "output_type": "stream",
     "text": [
      "[2018-05-12 11:01:19,300] Making new env: CartPole-v0\n"
     ]
    },
    {
     "name": "stdout",
     "output_type": "stream",
     "text": [
      "Training epoch 0:\n",
      "Training epoch 1:\n",
      "Training epoch 2:\n",
      "Training epoch 3:\n",
      "Training epoch 4:\n",
      "Training epoch 5:\n",
      "Training epoch 6:\n",
      "Training epoch 7:\n",
      "Training epoch 8:\n",
      "Training epoch 9:\n",
      "Training epoch 10:\n",
      "Training epoch 11:\n",
      "Training epoch 12:\n",
      "Training epoch 13:\n",
      "Training epoch 14:\n",
      "Training epoch 15:\n",
      "Training epoch 16:\n",
      "Training epoch 17:\n",
      "Training epoch 18:\n",
      "Training epoch 19:\n",
      "Training epoch 20:\n",
      "Training epoch 21:\n",
      "Training epoch 22:\n",
      "Training epoch 23:\n",
      "Training epoch 24:\n",
      "Training epoch 25:\n",
      "Training epoch 26:\n",
      "Training epoch 27:\n",
      "Training epoch 28:\n",
      "Training epoch 29:\n",
      "Training epoch 30:\n",
      "Training epoch 31:\n",
      "Training epoch 32:\n"
     ]
    }
   ],
   "source": [
    "env = gym.make('CartPole-v0')\n",
    "fitted_value_approximator = FittedValueApproximator(env = env)\n",
    "fitted_value_approximator.train(n_epochs = 100000, m = 1000)"
   ]
  },
  {
   "cell_type": "code",
   "execution_count": null,
   "metadata": {
    "collapsed": false
   },
   "outputs": [],
   "source": [
    "timesteps = 100\n",
    "s = env.reset()\n",
    "for t in range(timesteps):\n",
    "    env.render()\n",
    "    action = fitted_value_approximator.act(s)\n",
    "    print(\"Action at time step \" + str(t) + \": \" + str(action))\n",
    "    s, reward, done, info = env.step(action)\n",
    "    if done:\n",
    "        print(\"Episode finished after {} timesteps\".format(t+1))\n",
    "        break"
   ]
  },
  {
   "cell_type": "code",
   "execution_count": null,
   "metadata": {
    "collapsed": true
   },
   "outputs": [],
   "source": []
  }
 ],
 "metadata": {
  "anaconda-cloud": {},
  "kernelspec": {
   "display_name": "Python [conda root]",
   "language": "python",
   "name": "conda-root-py"
  },
  "language_info": {
   "codemirror_mode": {
    "name": "ipython",
    "version": 3
   },
   "file_extension": ".py",
   "mimetype": "text/x-python",
   "name": "python",
   "nbconvert_exporter": "python",
   "pygments_lexer": "ipython3",
   "version": "3.5.2"
  }
 },
 "nbformat": 4,
 "nbformat_minor": 1
}
